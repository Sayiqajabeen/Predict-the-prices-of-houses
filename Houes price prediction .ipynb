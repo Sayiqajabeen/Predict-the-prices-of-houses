{
 "cells": [
  {
   "cell_type": "code",
   "execution_count": 1,
   "id": "6854349c-afec-433f-8bd7-1e90e4043c36",
   "metadata": {},
   "outputs": [
    {
     "name": "stdout",
     "output_type": "stream",
     "text": [
      "Mean Squared Error: 153880497.74199265\n",
      "R-squared: 0.9974402738106252\n",
      "Model Coefficients:\n",
      "Square Footage Coefficient: 300.74918979635464\n",
      "Bedrooms Coefficient: 4399.638474783866\n",
      "Bathrooms Coefficient: 3237.409860005655\n",
      "Intercept: -1111.3446997046703\n",
      "Predicted Price for the example house: $620060.77\n"
     ]
    },
    {
     "name": "stderr",
     "output_type": "stream",
     "text": [
      "C:\\ProgramData\\anaconda3\\Lib\\site-packages\\sklearn\\base.py:493: UserWarning: X does not have valid feature names, but LinearRegression was fitted with feature names\n",
      "  warnings.warn(\n"
     ]
    }
   ],
   "source": [
    "import numpy as np\n",
    "import pandas as pd\n",
    "from sklearn.model_selection import train_test_split\n",
    "from sklearn.linear_model import LinearRegression\n",
    "from sklearn.metrics import mean_squared_error, r2_score\n",
    "\n",
    "# Step 1: Generate a synthetic dataset\n",
    "# For demonstration, let's create a dataset with 100 samples\n",
    "np.random.seed(42)  # For reproducibility\n",
    "\n",
    "# Generate random square footage (500 to 3500 sq ft)\n",
    "square_footage = np.random.randint(500, 3500, 100)\n",
    "\n",
    "# Generate random number of bedrooms (1 to 5)\n",
    "bedrooms = np.random.randint(1, 6, 100)\n",
    "\n",
    "# Generate random number of bathrooms (1 to 3)\n",
    "bathrooms = np.random.randint(1, 4, 100)\n",
    "\n",
    "# Generate a random price based on a simple linear relationship with some noise\n",
    "price = (square_footage * 300) + (bedrooms * 5000) + (bathrooms * 3000) + np.random.randint(-20000, 20000, 100)\n",
    "\n",
    "# Create a DataFrame\n",
    "data = pd.DataFrame({\n",
    "    'SquareFootage': square_footage,\n",
    "    'Bedrooms': bedrooms,\n",
    "    'Bathrooms': bathrooms,\n",
    "    'Price': price\n",
    "})\n",
    "\n",
    "# Step 2: Split the dataset into training and testing sets\n",
    "X = data[['SquareFootage', 'Bedrooms', 'Bathrooms']]\n",
    "y = data['Price']\n",
    "X_train, X_test, y_train, y_test = train_test_split(X, y, test_size=0.2, random_state=42)\n",
    "\n",
    "# Step 3: Train the Linear Regression model\n",
    "model = LinearRegression()\n",
    "model.fit(X_train, y_train)\n",
    "\n",
    "# Step 4: Make predictions using the test set\n",
    "y_pred = model.predict(X_test)\n",
    "\n",
    "# Step 5: Evaluate the model\n",
    "mse = mean_squared_error(y_test, y_pred)\n",
    "r2 = r2_score(y_test, y_pred)\n",
    "\n",
    "# Print model evaluation metrics\n",
    "print(f\"Mean Squared Error: {mse}\")\n",
    "print(f\"R-squared: {r2}\")\n",
    "\n",
    "# Print the coefficients of the model\n",
    "print(\"Model Coefficients:\")\n",
    "print(f\"Square Footage Coefficient: {model.coef_[0]}\")\n",
    "print(f\"Bedrooms Coefficient: {model.coef_[1]}\")\n",
    "print(f\"Bathrooms Coefficient: {model.coef_[2]}\")\n",
    "print(f\"Intercept: {model.intercept_}\")\n",
    "\n",
    "# Example prediction\n",
    "example_house = np.array([[2000, 3, 2]])  # 2000 sq ft, 3 bedrooms, 2 bathrooms\n",
    "predicted_price = model.predict(example_house)\n",
    "print(f\"Predicted Price for the example house: ${predicted_price[0]:.2f}\")\n"
   ]
  },
  {
   "cell_type": "code",
   "execution_count": null,
   "id": "d14e6461-ca7c-40be-b7c4-9e43ac7a8882",
   "metadata": {},
   "outputs": [],
   "source": []
  }
 ],
 "metadata": {
  "kernelspec": {
   "display_name": "Python 3 (ipykernel)",
   "language": "python",
   "name": "python3"
  },
  "language_info": {
   "codemirror_mode": {
    "name": "ipython",
    "version": 3
   },
   "file_extension": ".py",
   "mimetype": "text/x-python",
   "name": "python",
   "nbconvert_exporter": "python",
   "pygments_lexer": "ipython3",
   "version": "3.12.4"
  }
 },
 "nbformat": 4,
 "nbformat_minor": 5
}
